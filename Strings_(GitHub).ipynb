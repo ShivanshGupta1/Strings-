{
  "nbformat": 4,
  "nbformat_minor": 0,
  "metadata": {
    "colab": {
      "name": "Strings (GitHub).ipynb",
      "provenance": [],
      "authorship_tag": "ABX9TyMq9FD9ibjM2r3FuTUCtC1I",
      "include_colab_link": true
    },
    "kernelspec": {
      "name": "python3",
      "display_name": "Python 3"
    }
  },
  "cells": [
    {
      "cell_type": "markdown",
      "metadata": {
        "id": "view-in-github",
        "colab_type": "text"
      },
      "source": [
        "<a href=\"https://colab.research.google.com/github/ShivanshGupta1/Strings-/blob/main/Strings_(GitHub).ipynb\" target=\"_parent\"><img src=\"https://colab.research.google.com/assets/colab-badge.svg\" alt=\"Open In Colab\"/></a>"
      ]
    },
    {
      "cell_type": "code",
      "metadata": {
        "id": "322qQ2nnaLH6"
      },
      "source": [
        "a = \"hello\"\n",
        "b = \" world\"\n",
        "print(a+b)\n",
        "#concatination is when we add 2 or more strings"
      ],
      "execution_count": null,
      "outputs": []
    },
    {
      "cell_type": "code",
      "metadata": {
        "id": "23WIxMsyaW5i"
      },
      "source": [
        "s = \"hello\\n\"\n",
        "print(s*20)\n",
        "#repetation of strings"
      ],
      "execution_count": null,
      "outputs": []
    },
    {
      "cell_type": "code",
      "metadata": {
        "id": "H1hz12nGaaRd"
      },
      "source": [
        "#escape characters\n",
        "s = 'as\\twd'\n",
        "d = '\\n'\n",
        "e =\"yo\\'s\"\n",
        "print(s)\n",
        "print(d)\n",
        "print(e)\n",
        "# \\t is tab spaces\n",
        "# \\n is newline character\n",
        "# \\' is for putting the quotes without the error\n"
      ],
      "execution_count": null,
      "outputs": []
    },
    {
      "cell_type": "code",
      "metadata": {
        "id": "LfnlffzFacYz"
      },
      "source": [
        "# a method is a function that is used in a class\n",
        "# a object-oriented language is that uses objects mostly\n",
        "#in operator checks if something is within a condition, such as for in range(10)"
      ],
      "execution_count": null,
      "outputs": []
    },
    {
      "cell_type": "code",
      "metadata": {
        "id": "znEoSPomah8c"
      },
      "source": [
        "#in operator in a string\n",
        "Any = \"Hello\"\n",
        "for i in range(5):\n",
        "  print(s[i])"
      ],
      "execution_count": null,
      "outputs": []
    },
    {
      "cell_type": "code",
      "metadata": {
        "id": "l_HVzEOdaj09"
      },
      "source": [
        "Any = 'Hello'\n",
        "if \"H\"in Any:\n",
        "  print(Any)"
      ],
      "execution_count": null,
      "outputs": []
    },
    {
      "cell_type": "code",
      "metadata": {
        "id": "3p31dTwJal7f"
      },
      "source": [
        "#in operator + not operator with strings\n",
        "Any = 'Hello'\n",
        "if \"M\" not in Any:\n",
        "  print(Any)"
      ],
      "execution_count": null,
      "outputs": []
    },
    {
      "cell_type": "code",
      "metadata": {
        "id": "sdp3aSzianxf"
      },
      "source": [
        "# indexing, such as W in \"Welcome\" is at 0 index\n",
        "s = \"Any\"\n",
        "print(s[0])\n",
        "print('Below is not a part of index')\n",
        "#But to print the last digits you can do this\n",
        "print(s[-1])\n",
        "print(s[-2])\n",
        "print(s[-3])"
      ],
      "execution_count": null,
      "outputs": []
    },
    {
      "cell_type": "code",
      "metadata": {
        "id": "nKr3q9Bkap_o"
      },
      "source": [
        "#Slicing operations on string\n",
        "s = \"Hello World\"\n",
        "print(s[1:5])\n",
        "#To print from the strating till the number , just write this\n",
        "print(s[:5])\n",
        "# to print from a number till end just write this\n",
        "print(s[2:])\n",
        "#to print the letters from a gap do this \n",
        "print(s[0:7:3])\n",
        "# here 0 is the starting, 7 is the end and 3 , which becomes as 2 index gap\n",
        "# The next code is to from starting till end, from -1, which is the end point\n",
        "print(s[::-1])"
      ],
      "execution_count": null,
      "outputs": []
    },
    {
      "cell_type": "code",
      "metadata": {
        "id": "zagsoSJDasgO"
      },
      "source": [
        "# looping in strings\n",
        "# Way 1\n",
        "s = 'hello'\n",
        "for i in s:\n",
        "  print(i)\n",
        "# this way checks for each chracter in s, i will print that chracter\n",
        "#Way 2\n",
        "for i in range (5):\n",
        "  print(s[i])"
      ],
      "execution_count": null,
      "outputs": []
    },
    {
      "cell_type": "code",
      "metadata": {
        "id": "ztX4xO3DavcP"
      },
      "source": [
        "# String Methods\n",
        "# LowerCase\n",
        "s = \"Hello\"\n",
        "s = s.lower()\n",
        "print(s)\n",
        "# A string is immutable and can't be changed, therfore, we have to reassing this variable value"
      ],
      "execution_count": null,
      "outputs": []
    },
    {
      "cell_type": "code",
      "metadata": {
        "id": "ffOTURLZazb6"
      },
      "source": [
        "#Uppercase\n",
        "s = s.upper()\n",
        "print(s)"
      ],
      "execution_count": null,
      "outputs": []
    },
    {
      "cell_type": "code",
      "metadata": {
        "id": "xzVEIwkfa2G4"
      },
      "source": [
        "# Isaplha, this method tells if there are aplhabets in the string or not\n",
        "A = 'Anything'\n",
        "print(A.isalpha())\n",
        "A = 'Anything '\n",
        "print(A.isalpha())"
      ],
      "execution_count": null,
      "outputs": []
    },
    {
      "cell_type": "code",
      "metadata": {
        "id": "5HbvAjyNa7kH"
      },
      "source": [
        "# Count -  Tell the count of a sting letter, etc.\n",
        "s = \"Hello\"\n",
        "print(s.count('l'))\n",
        "# Index -  To tell the index of a specific letter, etc.\n",
        "c = 'Any'\n",
        "print(c.index('A'))\n",
        "#Replace - To replace a letter\n",
        "l = 'Yo'\n",
        "l = l.replace('o','!')\n",
        "print(l)\n",
        "# Split - Coverts string to list\n",
        "e = 'Shivansh Daksh Kanishk'\n",
        "e = e.split()\n",
        "print(e)\n",
        "j = 'Shivansh Daksh Kanishk'\n",
        "d,f,g = j.split(' ')\n",
        "print(d)\n",
        "print(f)\n",
        "print(g)\n",
        "#Length (Built In Function)\n",
        "s = 'Hello'\n",
        "print(len(s))\n"
      ],
      "execution_count": null,
      "outputs": []
    }
  ]
}